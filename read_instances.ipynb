{
 "cells": [
  {
   "cell_type": "code",
   "execution_count": 2,
   "metadata": {},
   "outputs": [],
   "source": [
    "import numpy as np"
   ]
  },
  {
   "cell_type": "code",
   "execution_count": 3,
   "metadata": {},
   "outputs": [],
   "source": [
    "dir_instances = './instances'\n",
    "dir_static_instances = f'{dir_instances}/static'\n",
    "dir_dynamic_instances = f'{dir_instances}/dynamic'\n",
    "\n",
    "dir_solutions = './solutions'\n",
    "dir_static_solutions = f'{dir_solutions}/static'\n",
    "dir_dynamic_solutions = f'{dir_solutions}/dynamic'"
   ]
  },
  {
   "cell_type": "markdown",
   "metadata": {},
   "source": [
    "Static instances"
   ]
  },
  {
   "cell_type": "code",
   "execution_count": 4,
   "metadata": {},
   "outputs": [
    {
     "data": {
      "text/plain": [
       "dict_keys(['name', 'n_customers', 'node_coord', 'demand', 'service_time', 'edge_weight', 'revenue', 'vehicles', 'capacity', 'autonomy', 'time_window'])"
      ]
     },
     "execution_count": 4,
     "metadata": {},
     "output_type": "execute_result"
    }
   ],
   "source": [
    "instance_file = f'{dir_static_instances}/SFPTW_100_20_0.npy'\n",
    "instance = np.load(instance_file, allow_pickle='TRUE').item()\n",
    "instance.keys()"
   ]
  },
  {
   "cell_type": "code",
   "execution_count": 5,
   "metadata": {},
   "outputs": [
    {
     "data": {
      "text/plain": [
       "dict_keys(['Name', 'Routes', 'Min_profit', 'Total_profit'])"
      ]
     },
     "execution_count": 5,
     "metadata": {},
     "output_type": "execute_result"
    }
   ],
   "source": [
    "solution_file = f'{dir_static_solutions}/SFPTW_100_20_0.sys.sol.npy'\n",
    "solution = np.load(solution_file, allow_pickle='TRUE').item()\n",
    "solution.keys()"
   ]
  },
  {
   "cell_type": "code",
   "execution_count": 6,
   "metadata": {},
   "outputs": [],
   "source": [
    "#solution[\"Routes\"]"
   ]
  },
  {
   "cell_type": "markdown",
   "metadata": {},
   "source": [
    "Dynamic instances"
   ]
  },
  {
   "cell_type": "code",
   "execution_count": 7,
   "metadata": {},
   "outputs": [
    {
     "data": {
      "text/plain": [
       "dict_keys(['name', 'static_instance', 'static_solution', 'event'])"
      ]
     },
     "execution_count": 7,
     "metadata": {},
     "output_type": "execute_result"
    }
   ],
   "source": [
    "dynamic_instance_file = f'{dir_dynamic_instances}/DFPTW_100_20_0_best.npy'\n",
    "dynamic_instance = np.load(dynamic_instance_file, allow_pickle='TRUE').item()\n",
    "dynamic_instance.keys()"
   ]
  },
  {
   "cell_type": "code",
   "execution_count": 8,
   "metadata": {},
   "outputs": [
    {
     "data": {
      "text/plain": [
       "{'type': 'Vehicle_breakdown',\n",
       " 'broken_vehicle': 'vehicle_12',\n",
       " 'broken_time': 28.178005607210743}"
      ]
     },
     "execution_count": 8,
     "metadata": {},
     "output_type": "execute_result"
    }
   ],
   "source": [
    "dynamic_instance[\"event\"] # Vehicle 1 is the first one. "
   ]
  },
  {
   "cell_type": "code",
   "execution_count": 9,
   "metadata": {},
   "outputs": [
    {
     "data": {
      "text/plain": [
       "dict_keys(['name', 'min_profit', 'reassign', 'total_profit', 'routes'])"
      ]
     },
     "execution_count": 9,
     "metadata": {},
     "output_type": "execute_result"
    }
   ],
   "source": [
    "dynamic_solution_file = f'{dir_dynamic_solutions}/DFPTW_100_20_0_best.sol.npy'\n",
    "dynamic_solution = np.load(dynamic_solution_file, allow_pickle='TRUE').item()\n",
    "dynamic_solution.keys()"
   ]
  },
  {
   "cell_type": "code",
   "execution_count": 11,
   "metadata": {},
   "outputs": [
    {
     "data": {
      "text/plain": [
       "154.53"
      ]
     },
     "execution_count": 11,
     "metadata": {},
     "output_type": "execute_result"
    }
   ],
   "source": [
    "dynamic_solution[\"min_profit\"]"
   ]
  },
  {
   "cell_type": "code",
   "execution_count": 23,
   "metadata": {},
   "outputs": [
    {
     "name": "stdout",
     "output_type": "stream",
     "text": [
      "DFPTW_100_20_0_best \t  154.53 \t  1\n",
      "DFPTW_100_20_0_random \t  159.66 \t  3\n",
      "DFPTW_100_20_0_worst \t  159.66 \t  2\n",
      "DFPTW_100_20_1_best \t  162.17 \t  0\n",
      "DFPTW_100_20_1_random \t  167.05 \t  2\n",
      "DFPTW_100_20_1_worst \t  177.95 \t  4\n",
      "DFPTW_100_20_2_best \t  166.70 \t  6\n",
      "DFPTW_100_20_2_random \t  154.82 \t  2\n",
      "DFPTW_100_20_2_worst \t  150.27 \t  0\n",
      "DFPTW_100_20_3_best \t  145.83 \t  3\n",
      "DFPTW_100_20_3_random \t  147.07 \t  3\n",
      "DFPTW_100_20_3_worst \t  137.35 \t  0\n",
      "DFPTW_100_20_4_best \t  120.19 \t  2\n",
      "DFPTW_100_20_4_random \t  121.74 \t  2\n",
      "DFPTW_100_20_4_worst \t  121.74 \t  3\n",
      "DFPTW_100_20_5_best \t  80.48 \t  1\n",
      "DFPTW_100_20_5_random \t  80.48 \t  2\n",
      "DFPTW_100_20_5_worst \t  116.67 \t  1\n",
      "DFPTW_100_20_6_best \t  123.99 \t  1\n",
      "DFPTW_100_20_6_random \t  123.20 \t  2\n",
      "DFPTW_100_20_6_worst \t  127.50 \t  2\n",
      "DFPTW_100_20_7_best \t  149.77 \t  0\n",
      "DFPTW_100_20_7_random \t  143.42 \t  0\n",
      "DFPTW_100_20_7_worst \t  151.09 \t  1\n",
      "DFPTW_100_20_8_best \t  142.04 \t  0\n",
      "DFPTW_100_20_8_random \t  142.04 \t  1\n",
      "DFPTW_100_20_8_worst \t  144.61 \t  2\n",
      "DFPTW_100_20_9_best \t  149.68 \t  1\n",
      "DFPTW_100_20_9_random \t  158.27 \t  1\n",
      "DFPTW_100_20_9_worst \t  154.20 \t  2\n",
      "DFPTW_100_30_0_best \t  80.47 \t  5\n",
      "DFPTW_100_30_0_random \t  83.99 \t  2\n",
      "DFPTW_100_30_0_worst \t  76.24 \t  1\n",
      "DFPTW_100_30_1_best \t  88.31 \t  2\n",
      "DFPTW_100_30_1_random \t  80.94 \t  1\n",
      "DFPTW_100_30_1_worst \t  89.70 \t  1\n",
      "DFPTW_100_30_2_best \t  81.65 \t  2\n",
      "DFPTW_100_30_2_random \t  85.94 \t  2\n",
      "DFPTW_100_30_2_worst \t  81.76 \t  1\n",
      "DFPTW_100_30_3_best \t  74.94 \t  3\n",
      "DFPTW_100_30_3_random \t  74.94 \t  1\n",
      "DFPTW_100_30_3_worst \t  75.37 \t  2\n",
      "DFPTW_100_30_4_best \t  59.57 \t  2\n",
      "DFPTW_100_30_4_random \t  59.57 \t  1\n",
      "DFPTW_100_30_4_worst \t  64.07 \t  2\n",
      "DFPTW_100_30_5_best \t  65.57 \t  2\n",
      "DFPTW_100_30_5_random \t  65.57 \t  2\n",
      "DFPTW_100_30_5_worst \t  87.54 \t  0\n",
      "DFPTW_100_30_6_best \t  62.01 \t  2\n",
      "DFPTW_100_30_6_random \t  70.90 \t  2\n",
      "DFPTW_100_30_6_worst \t  66.46 \t  1\n",
      "DFPTW_100_30_7_best \t  79.92 \t  2\n",
      "DFPTW_100_30_7_random \t  80.26 \t  1\n",
      "DFPTW_100_30_7_worst \t  82.41 \t  3\n",
      "DFPTW_100_30_8_best \t  71.61 \t  2\n",
      "DFPTW_100_30_8_random \t  64.56 \t  1\n",
      "DFPTW_100_30_8_worst \t  70.23 \t  1\n",
      "DFPTW_100_30_9_best \t  73.59 \t  2\n",
      "DFPTW_100_30_9_random \t  70.26 \t  2\n",
      "DFPTW_100_30_9_worst \t  71.30 \t  1\n",
      "DFPTW_100_40_0_best \t  41.72 \t  1\n",
      "DFPTW_100_40_0_random \t  43.58 \t  0\n",
      "DFPTW_100_40_0_worst \t  42.29 \t  0\n",
      "DFPTW_100_40_1_best \t  49.89 \t  2\n",
      "DFPTW_100_40_1_random \t  47.92 \t  1\n",
      "DFPTW_100_40_1_worst \t  53.35 \t  0\n",
      "DFPTW_100_40_2_best \t  43.00 \t  2\n",
      "DFPTW_100_40_2_random \t  42.17 \t  0\n",
      "DFPTW_100_40_2_worst \t  43.00 \t  0\n",
      "DFPTW_100_40_3_best \t  38.29 \t  1\n",
      "DFPTW_100_40_3_random \t  38.29 \t  1\n",
      "DFPTW_100_40_3_worst \t  37.80 \t  1\n",
      "DFPTW_100_40_4_best \t  23.99 \t  0\n",
      "DFPTW_100_40_4_random \t  24.75 \t  2\n",
      "DFPTW_100_40_4_worst \t  27.56 \t  0\n",
      "DFPTW_100_40_5_best \t  46.13 \t  2\n",
      "DFPTW_100_40_5_random \t  47.15 \t  2\n",
      "DFPTW_100_40_5_worst \t  46.70 \t  1\n",
      "DFPTW_100_40_6_best \t  31.08 \t  1\n",
      "DFPTW_100_40_6_random \t  31.08 \t  1\n",
      "DFPTW_100_40_6_worst \t  31.08 \t  1\n",
      "DFPTW_100_40_7_best \t  36.09 \t  1\n",
      "DFPTW_100_40_7_random \t  36.09 \t  1\n",
      "DFPTW_100_40_7_worst \t  38.59 \t  0\n",
      "DFPTW_100_40_8_best \t  37.34 \t  1\n",
      "DFPTW_100_40_8_random \t  37.34 \t  1\n",
      "DFPTW_100_40_8_worst \t  38.61 \t  0\n",
      "DFPTW_100_40_9_best \t  41.02 \t  2\n",
      "DFPTW_100_40_9_random \t  41.02 \t  0\n",
      "DFPTW_100_40_9_worst \t  41.02 \t  1\n"
     ]
    }
   ],
   "source": [
    "import os\n",
    "files = os.listdir(dir_dynamic_solutions)\n",
    "files.sort()\n",
    "for file in files:\n",
    "    dynamic_solution = np.load(f'{dir_dynamic_solutions}/{file}', allow_pickle='TRUE').item()\n",
    "    name = dynamic_solution[\"name\"]\n",
    "    min_profit = dynamic_solution[\"min_profit\"]\n",
    "    reassign = dynamic_solution[\"reassign\"]\n",
    "    print(f\"{name} \\t {min_profit: .2f} \\t  {reassign}\")\n",
    "    "
   ]
  },
  {
   "cell_type": "code",
   "execution_count": null,
   "metadata": {},
   "outputs": [],
   "source": []
  }
 ],
 "metadata": {
  "kernelspec": {
   "display_name": "Python 3",
   "language": "python",
   "name": "python3"
  },
  "language_info": {
   "codemirror_mode": {
    "name": "ipython",
    "version": 3
   },
   "file_extension": ".py",
   "mimetype": "text/x-python",
   "name": "python",
   "nbconvert_exporter": "python",
   "pygments_lexer": "ipython3",
   "version": "3.10.12"
  }
 },
 "nbformat": 4,
 "nbformat_minor": 2
}
