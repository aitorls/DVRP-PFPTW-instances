{
 "cells": [
  {
   "cell_type": "code",
   "execution_count": 4,
   "metadata": {},
   "outputs": [],
   "source": [
    "import numpy as np"
   ]
  },
  {
   "cell_type": "code",
   "execution_count": 16,
   "metadata": {},
   "outputs": [],
   "source": [
    "dir_instances = './instances'\n",
    "dir_static_instances = f'{dir_instances}/static'\n",
    "dir_dynamic_instances = f'{dir_instances}/dynamic'\n",
    "\n",
    "dir_solutions = './solutions'\n",
    "dir_static_solutions = f'{dir_solutions}/static'\n",
    "dir_dynamic_solutions = f'{dir_solutions}/dynamic'"
   ]
  },
  {
   "cell_type": "markdown",
   "metadata": {},
   "source": [
    "Static instances"
   ]
  },
  {
   "cell_type": "code",
   "execution_count": 20,
   "metadata": {},
   "outputs": [
    {
     "data": {
      "text/plain": [
       "dict_keys(['name', 'n_customers', 'node_coord', 'demand', 'service_time', 'edge_weight', 'revenue', 'vehicles', 'capacity', 'autonomy', 'time_window'])"
      ]
     },
     "execution_count": 20,
     "metadata": {},
     "output_type": "execute_result"
    }
   ],
   "source": [
    "instance_file = f'{dir_static_instances}/SFPTW_100_20_0.npy'\n",
    "instance = np.load(instance_file, allow_pickle='TRUE').item()\n",
    "instance.keys()"
   ]
  },
  {
   "cell_type": "code",
   "execution_count": 21,
   "metadata": {},
   "outputs": [
    {
     "data": {
      "text/plain": [
       "dict_keys(['Name', 'Routes', 'Min_profit', 'Total_profit'])"
      ]
     },
     "execution_count": 21,
     "metadata": {},
     "output_type": "execute_result"
    }
   ],
   "source": [
    "solution_file = f'{dir_static_solutions}/SFPTW_100_20_0.sys.sol.npy'\n",
    "solution = np.load(solution_file, allow_pickle='TRUE').item()\n",
    "solution.keys()"
   ]
  },
  {
   "cell_type": "markdown",
   "metadata": {},
   "source": [
    "Dynamic instances"
   ]
  },
  {
   "cell_type": "code",
   "execution_count": 28,
   "metadata": {},
   "outputs": [
    {
     "data": {
      "text/plain": [
       "150"
      ]
     },
     "execution_count": 28,
     "metadata": {},
     "output_type": "execute_result"
    }
   ],
   "source": [
    "import copy\n",
    "dynamic_instance = {}\n",
    "dynamic_instance[\"name\"] = \"SFPTW_100_20_0_worst\"\n",
    "dynamic_instance[\"static_instance\"] = copy.deepcopy(instance)\n",
    "dynamic_instance[\"static_solution\"] = copy.deepcopy(solution)\n",
    "dynamic_instance[\"event\"] = {\"type\" : \"Vehicle_breakdown\",\n",
    "                             \"broken_vehicle\" : \"vehicle_2\",\n",
    "                             \"broken_time\" : 49}"
   ]
  },
  {
   "cell_type": "code",
   "execution_count": null,
   "metadata": {},
   "outputs": [],
   "source": []
  }
 ],
 "metadata": {
  "kernelspec": {
   "display_name": "Python 3",
   "language": "python",
   "name": "python3"
  },
  "language_info": {
   "codemirror_mode": {
    "name": "ipython",
    "version": 3
   },
   "file_extension": ".py",
   "mimetype": "text/x-python",
   "name": "python",
   "nbconvert_exporter": "python",
   "pygments_lexer": "ipython3",
   "version": "3.10.12"
  }
 },
 "nbformat": 4,
 "nbformat_minor": 2
}
