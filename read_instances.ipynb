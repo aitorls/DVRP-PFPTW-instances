{
 "cells": [
  {
   "cell_type": "code",
   "execution_count": 4,
   "metadata": {},
   "outputs": [],
   "source": [
    "import numpy as np"
   ]
  },
  {
   "cell_type": "code",
   "execution_count": 16,
   "metadata": {},
   "outputs": [],
   "source": [
    "dir_instances = './instances'\n",
    "dir_static_instances = f'{dir_instances}/static'\n",
    "dir_dynamic_instances = f'{dir_instances}/dynamic'\n",
    "\n",
    "dir_solutions = './solutions'\n",
    "dir_static_solutions = f'{dir_solutions}/static'\n",
    "dir_dynamic_solutions = f'{dir_solutions}/dynamic'"
   ]
  },
  {
   "cell_type": "markdown",
   "metadata": {},
   "source": [
    "Static instances"
   ]
  },
  {
   "cell_type": "code",
   "execution_count": 20,
   "metadata": {},
   "outputs": [
    {
     "data": {
      "text/plain": [
       "dict_keys(['name', 'n_customers', 'node_coord', 'demand', 'service_time', 'edge_weight', 'revenue', 'vehicles', 'capacity', 'autonomy', 'time_window'])"
      ]
     },
     "execution_count": 20,
     "metadata": {},
     "output_type": "execute_result"
    }
   ],
   "source": [
    "instance_file = f'{dir_static_instances}/SFPTW_100_20_0.npy'\n",
    "instance = np.load(instance_file, allow_pickle='TRUE').item()\n",
    "instance.keys()"
   ]
  },
  {
   "cell_type": "code",
   "execution_count": 21,
   "metadata": {},
   "outputs": [
    {
     "data": {
      "text/plain": [
       "dict_keys(['Name', 'Routes', 'Min_profit', 'Total_profit'])"
      ]
     },
     "execution_count": 21,
     "metadata": {},
     "output_type": "execute_result"
    }
   ],
   "source": [
    "solution_file = f'{dir_static_solutions}/SFPTW_100_20_0.sys.sol.npy'\n",
    "solution = np.load(solution_file, allow_pickle='TRUE').item()\n",
    "solution.keys()"
   ]
  },
  {
   "cell_type": "code",
   "execution_count": 42,
   "metadata": {},
   "outputs": [],
   "source": [
    "#solution[\"Routes\"]"
   ]
  },
  {
   "cell_type": "markdown",
   "metadata": {},
   "source": [
    "Dynamic instances"
   ]
  },
  {
   "cell_type": "code",
   "execution_count": 38,
   "metadata": {},
   "outputs": [
    {
     "data": {
      "text/plain": [
       "dict_keys(['name', 'static_instance', 'static_solution', 'event'])"
      ]
     },
     "execution_count": 38,
     "metadata": {},
     "output_type": "execute_result"
    }
   ],
   "source": [
    "dynamic_instance_file = f'{dir_dynamic_instances}/DFPTW_100_20_0_best.npy'\n",
    "dynamic_instance = np.load(dynamic_instance_file, allow_pickle='TRUE').item()\n",
    "dynamic_instance.keys()"
   ]
  },
  {
   "cell_type": "code",
   "execution_count": 39,
   "metadata": {},
   "outputs": [
    {
     "data": {
      "text/plain": [
       "{'type': 'Vehicle_breakdown',\n",
       " 'broken_vehicle': 'vehicle_12',\n",
       " 'broken_time': 28.178005607210743}"
      ]
     },
     "execution_count": 39,
     "metadata": {},
     "output_type": "execute_result"
    }
   ],
   "source": [
    "dynamic_instance[\"event\"] # Vehicle 1 is the first one. "
   ]
  },
  {
   "cell_type": "code",
   "execution_count": null,
   "metadata": {},
   "outputs": [],
   "source": []
  }
 ],
 "metadata": {
  "kernelspec": {
   "display_name": "Python 3",
   "language": "python",
   "name": "python3"
  },
  "language_info": {
   "codemirror_mode": {
    "name": "ipython",
    "version": 3
   },
   "file_extension": ".py",
   "mimetype": "text/x-python",
   "name": "python",
   "nbconvert_exporter": "python",
   "pygments_lexer": "ipython3",
   "version": "3.10.12"
  }
 },
 "nbformat": 4,
 "nbformat_minor": 2
}
